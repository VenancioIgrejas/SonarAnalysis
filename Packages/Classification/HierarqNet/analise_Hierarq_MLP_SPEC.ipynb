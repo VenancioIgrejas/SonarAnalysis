{
 "cells": [
  {
   "cell_type": "code",
   "execution_count": 1,
   "metadata": {},
   "outputs": [
    {
     "name": "stderr",
     "output_type": "stream",
     "text": [
      "Using TensorFlow backend.\n"
     ]
    }
   ],
   "source": [
    "import numpy as np\n",
    "import matplotlib.pyplot as plt\n",
    "\n",
    "import pandas as pd\n",
    "from Functions.FunctionsDataVisualization import plotConfusionMatrix, savefig, snsConfusionMatrix\n",
    "from lps_toolbox.metrics.classification import sp_index\n",
    "from sklearn.metrics import recall_score,confusion_matrix\n",
    "\n",
    "import pickle\n",
    "\n"
   ]
  },
  {
   "cell_type": "code",
   "execution_count": 2,
   "metadata": {},
   "outputs": [],
   "source": [
    "classes={'class_S':[[9,10,13,14,16,23,1,2,22,21],\n",
    "                             [4,6,8,12,17,19],\n",
    "                             [11,24],\n",
    "                             [5,7,15,3,18,20]],\n",
    "        'class_A':[[9,10,13,14,16],\n",
    "                        [23,1,2,22],\n",
    "                        [21]],\n",
    "        'class_B':[[4],\n",
    "                        [6],\n",
    "                        [8],\n",
    "                        [12],\n",
    "                        [17],\n",
    "                        [19]],\n",
    "        'class_D':[[5,7,15],\n",
    "                [3,18,20]],\n",
    "         \n",
    "        'class_C':[[11],\n",
    "                    [24]],\n",
    "        'class_AA':[[9],\n",
    "                         [10],\n",
    "                         [13],\n",
    "                         [14],\n",
    "                         [16]],\n",
    "        'class_AB':[[23],\n",
    "                         [1],\n",
    "                         [2],\n",
    "                         [22]],\n",
    "        'class_DA':[[5],\n",
    "                         [7],\n",
    "                         [15]],\n",
    "        'class_DB':[[3],\n",
    "                         [18],\n",
    "                         [20]]}"
   ]
  },
  {
   "cell_type": "code",
   "execution_count": 11,
   "metadata": {},
   "outputs": [],
   "source": [
    "class_name = list(classes.keys())\n",
    "n_folds = 3\n",
    "batch = 512\n",
    "\n",
    "files = {}\n",
    "files_fold = {}\n",
    "eff_ech_class = {}\n",
    "file_hier = '/home/venancio/Workspace/SonarAnalysis/Results/Classification/Hierarq_spec_S_A_AA_withFolds_10_inits_10_folds_10_neurons_adam_optmizer_True_balanced_mapstd_norm_1000_epochs_512_batch_size_tanh_hidden_activation_tanh_output_activation_acc_sp_metric_mean_squared_error_loss'"
   ]
  },
  {
   "cell_type": "code",
   "execution_count": 12,
   "metadata": {},
   "outputs": [],
   "source": [
    "df_pred = {}\n",
    "master_fold = {}\n",
    "for ifold in range(n_folds):\n",
    "    files_fold[ifold] = file_hier + '/fold0{0}'.format(ifold)\n",
    "    master_fold[ifold] = pd.read_csv(files_fold[ifold]+'/master_table.csv')\n",
    "    files_class = []\n",
    "    for iclass in class_name:\n",
    "        file = file_hier + '/fold0{0}'.format(ifold) +'/'+iclass\n",
    "        files_class.append(file)\n",
    "    files[ifold] = files_class\n",
    "    df_pred[ifold] = pd.read_csv(files_fold[ifold] + '/pred_all.csv')\n"
   ]
  },
  {
   "cell_type": "code",
   "execution_count": 14,
   "metadata": {},
   "outputs": [
    {
     "name": "stderr",
     "output_type": "stream",
     "text": [
      "/home/venancio/sonarteste/lib/python2.7/site-packages/ipykernel_launcher.py:2: FutureWarning: Sorting because non-concatenation axis is not aligned. A future version\n",
      "of pandas will change to not sort by default.\n",
      "\n",
      "To accept the future behavior, pass 'sort=True'.\n",
      "\n",
      "To retain the current behavior and silence the warning, pass sort=False\n",
      "\n",
      "  \n"
     ]
    }
   ],
   "source": [
    "pred_df = pd.concat(df_pred)"
   ]
  },
  {
   "cell_type": "code",
   "execution_count": 17,
   "metadata": {},
   "outputs": [
    {
     "name": "stdout",
     "output_type": "stream",
     "text": [
      "SP of fold 0:0.58\n",
      "SP of fold 1:0.70\n",
      "SP of fold 2:0.65\n",
      "SP: 0.64 +- 0.05\n"
     ]
    }
   ],
   "source": [
    "#work with only pred_df and table_master\n",
    "sp_folds = []\n",
    "for ifold in range(n_folds):\n",
    "    pred = pred_df.loc[ifold]['pred'].values\n",
    "    master_ifold = master_fold[ifold]\n",
    "    test_id = master_ifold[master_ifold['fold_0{0}'.format(ifold)]==1].index.values\n",
    "    true = master_ifold['target'].values\n",
    "    sp = sp_index(y_pred=pred[test_id],y_true=true[test_id])\n",
    "    sp_folds.append(sp)\n",
    "    print(\"SP of fold {0}:{1:.2f}\".format(ifold,sp))\n",
    "\n",
    "print(\"SP: {0:.2f} +- {1:.2f}\".format(np.asarray(sp_folds).mean(),np.asarray(sp_folds).std()))"
   ]
  },
  {
   "cell_type": "code",
   "execution_count": 19,
   "metadata": {},
   "outputs": [
    {
     "name": "stdout",
     "output_type": "stream",
     "text": [
      "figure was saved in /home/venancio/Workspace/SonarAnalysis/Results/Classification/Hierarq_spec_S_A_AA_withFolds_10_inits_10_folds_10_neurons_adam_optmizer_True_balanced_mapstd_norm_1000_epochs_512_batch_size_tanh_hidden_activation_tanh_output_activation_acc_sp_metric_mean_squared_error_loss/SP_each_classes_en.png file\n"
     ]
    },
    {
     "data": {
      "image/png": "[encoded data removed]",
      "text/plain": [
       "<Figure size 504x360 with 1 Axes>"
      ]
     },
     "metadata": {},
     "output_type": "display_data"
    }
   ],
   "source": [
    "fig, ax = plt.subplots(figsize=(7,5))\n",
    "sp_class_mean = []\n",
    "sp_class_std = []\n",
    "for iclass in class_name:\n",
    "    sp_folds = []\n",
    "    for ifold in range(n_folds):\n",
    "        pred = pred_df.loc[ifold,iclass].values\n",
    "        master_ifold = master_fold[ifold]\n",
    "        test_id = master_ifold[(master_ifold[iclass]!=-1)&(master_ifold['fold_0{0}'.format(ifold)]==1)].index.values\n",
    "        true = master_ifold[iclass].values\n",
    "        sp = sp_index(y_pred=pred[test_id],y_true=true[test_id])\n",
    "        sp_folds.append(sp)\n",
    "    sp_class_mean.append(np.asarray(sp_folds).mean())\n",
    "    sp_class_std.append(np.asarray(sp_folds).std())\n",
    "    \n",
    "    \n",
    "    \n",
    "\n",
    "plt.errorbar(x=map(lambda x: x.split('_')[-1],class_name),y=sp_class_mean,yerr=sp_class_std,\n",
    "             marker='o',\n",
    "             color='k',\n",
    "             ecolor='k',\n",
    "             markerfacecolor='g',\n",
    "             capsize=0,\n",
    "             linestyle='None',label=u\"SP médio\")\n",
    "plt.grid()\n",
    "#plt.xlabel(\"Classes\",fontsize=30)\n",
    "plt.xlabel(\"Hierarchically committee member\",fontsize=15)\n",
    "\n",
    "plt.ylabel(\"SP\",fontsize=30)\n",
    "\n",
    "plt.yticks(fontsize=14)\n",
    "plt.xticks(fontsize=14)\n",
    "#plt.title(u\"SP de cada classe em cada nível da Rede Hierárquica (10 folds)\",fontsize=15)\n",
    "#plt.savefig(file_hier+'SP_all_classes_pt.png')\n",
    "savefig(plt,file_hier +'/SP_each_classes_en.png')"
   ]
  },
  {
   "cell_type": "code",
   "execution_count": null,
   "metadata": {},
   "outputs": [],
   "source": []
  }
 ],
 "metadata": {
  "kernelspec": {
   "display_name": "Python 2",
   "language": "python",
   "name": "python2"
  },
  "language_info": {
   "codemirror_mode": {
    "name": "ipython",
    "version": 2
   },
   "file_extension": ".py",
   "mimetype": "text/x-python",
   "name": "python",
   "nbconvert_exporter": "python",
   "pygments_lexer": "ipython2",
   "version": "2.7.5"
  }
 },
 "nbformat": 4,
 "nbformat_minor": 2
}
