{
 "cells": [
  {
   "cell_type": "code",
   "execution_count": 1,
   "metadata": {},
   "outputs": [
    {
     "name": "stderr",
     "output_type": "stream",
     "text": [
      "Using TensorFlow backend.\n"
     ]
    },
    {
     "data": {
      "text/plain": [
       "'/home/venancio/Workspace/SonarAnalysis/Results/Classification/Figures'"
      ]
     },
     "execution_count": 1,
     "metadata": {},
     "output_type": "execute_result"
    }
   ],
   "source": [
    "import numpy as np\n",
    "import sys\n",
    "import os\n",
    "import matplotlib.pyplot as plt\n",
    "import seaborn as sns\n",
    "\n",
    "import pandas as pd\n",
    "from Functions.FunctionsDataVisualization import plotConfusionMatrix, savefig, snsConfusionMatrix, distOutputLayer, plotLOFARgram\n",
    "from lps_toolbox.metrics.classification import sp_index\n",
    "from sklearn.metrics import recall_score,confusion_matrix\n",
    "\n",
    "import pickle\n",
    "\n",
    "from sklearn.preprocessing import LabelEncoder\n",
    "\n",
    "import warnings\n",
    "\n",
    "with warnings.catch_warnings():\n",
    "    warnings.filterwarnings(\"ignore\",category=DeprecationWarning)\n",
    "    import md5, sha\n",
    "\n",
    "path_classif = os.environ['CLASSIFICATION_RESULTS']\n",
    "path_figures_classif = os.environ['CLASSIFICATION_FIGURES']\n",
    "path_figures_classif"
   ]
  },
  {
   "cell_type": "code",
   "execution_count": 2,
   "metadata": {},
   "outputs": [],
   "source": [
    "database = '24classes'\n",
    "qtd_class = database[:2]"
   ]
  },
  {
   "cell_type": "code",
   "execution_count": 3,
   "metadata": {},
   "outputs": [
    {
     "name": "stdout",
     "output_type": "stream",
     "text": [
      "     PCD   analysis_name  batch_size   database    dev hidden_activation  \\\n",
      "8  False  Classification         512  24classes  False              tanh   \n",
      "\n",
      "                 loss metrics  n_epochs  n_folds  n_inits  n_neurons  \\\n",
      "8  mean_squared_error  acc,sp      1000       10       10        150   \n",
      "\n",
      "  observation optmizerAlgorithm output_activation type_arq version  weight  \n",
      "8         NaN              adam              tanh      MLP     NaN    True  \n"
     ]
    }
   ],
   "source": [
    "if database=='31classes':\n",
    "    query_analyse = 'database==\\'31classes\\' & n_inits==10 & type_arq==\\'MLP\\' & PCD==False & batch_size==64 & n_neurons==200'\n",
    "if database=='24classes':\n",
    "    query_analyse = 'database==\\'24classes\\' & n_inits==10 & type_arq==\\'MLP\\' & PCD==False & batch_size==512 & n_neurons==150'\n",
    "        \n",
    "files = {}\n",
    "files_fold = {}\n",
    "eff_ech_class = {}\n",
    "# file_hier = path_classif + '/Hierarq_{0}_{1}_inits_{2}_folds_{3}_neurons_adam_optmizer_True_balanced_mapstd_norm_1000_epochs_{4}_batch_size_tanh_hidden_activation_tanh_output_activation_acc_sp_metric_mean_squared_error_loss'.format(\n",
    "#                 database,init,folds,neurons,batch)\n",
    "\n",
    "df_bd_all = pd.read_csv(path_classif+'/bd.csv')\n",
    "df_bd = df_bd_all.query(query_analyse)\n",
    "print df_bd.drop(['hash','path'],axis=1)\n",
    "path_result = df_bd.path.values[0]\n",
    "\n",
    "\n",
    "file_hier = path_result\n",
    "tese_goltz = path_figures_classif + '/{0}'.format(df_bd.hash.values[0])\n",
    "# neurons_hierarqNet = []\n",
    "# for ineuron in range_neurons:\n",
    "#     path = path_classif + '/Hierarq_{0}_{1}_inits_{2}_folds_{3}_neurons_adam_optmizer_True_balanced_mapstd_norm_1000_epochs_{4}_batch_size_tanh_hidden_activation_tanh_output_activation_acc_sp_metric_mean_squared_error_loss'.format(\n",
    "#                 database,init,folds,ineuron,batch)\n",
    "    \n",
    "#     neurons_hierarqNet.append(path)\n",
    "\n",
    "\n",
    "\n",
    "# tese_goltz = path_figures_classif +  '/Hierarq_{0}_{1}_inits_{2}_folds_{3}_neurons_adam_optmizer_True_balanced_mapstd_norm_1000_epochs_{4}_batch_size_tanh_hidden_activation_tanh_output_activation_acc_sp_metric_mean_squared_error_loss'.format(\n",
    "#                 database,init,folds,neurons,batch)\n",
    "\n",
    "    \n",
    "if not os.path.exists(tese_goltz):\n",
    "    os.mkdir(tese_goltz)"
   ]
  },
  {
   "cell_type": "markdown",
   "metadata": {},
   "source": [
    "# Dataset"
   ]
  },
  {
   "cell_type": "code",
   "execution_count": 4,
   "metadata": {},
   "outputs": [
    {
     "name": "stdout",
     "output_type": "stream",
     "text": [
      "/home/venancio/Workspace/SonarAnalysis/Results/24classes/lofar_data_file_fft_1024_decimation_3_spectrum_left_400.jbl\n",
      "[+] Time to read data file: 2.75095295906 seconds\n",
      "analysis of Class01: \n",
      "size: 3209x400 -- maxValue: 1.38463282277 -- minValue: -0.199999448771\n",
      "analysis of Class02: \n",
      "size: 3037x400 -- maxValue: 1.34259549045 -- minValue: -0.199998892824\n",
      "analysis of Class03: \n",
      "size: 3212x400 -- maxValue: 1.49508318988 -- minValue: -0.199998792195\n",
      "analysis of Class04: \n",
      "size: 3203x400 -- maxValue: 1.38544304863 -- minValue: -0.199999766141\n",
      "analysis of Class05: \n",
      "size: 4781x400 -- maxValue: 2.08462558961 -- minValue: -0.199999495607\n",
      "analysis of Class06: \n",
      "size: 2232x400 -- maxValue: 1.03378591259 -- minValue: -0.199999021577\n",
      "analysis of Class07: \n",
      "size: 10821x400 -- maxValue: 1.70564969417 -- minValue: -0.199999701918\n",
      "analysis of Class08: \n",
      "size: 5898x400 -- maxValue: 2.29338655988 -- minValue: -0.199999534352\n",
      "analysis of Class09: \n",
      "size: 14562x400 -- maxValue: 2.27570297485 -- minValue: -0.199999369207\n",
      "analysis of Class10: \n",
      "size: 23224x400 -- maxValue: 2.98432190517 -- minValue: -0.19999981523\n",
      "analysis of Class11: \n",
      "size: 5633x400 -- maxValue: 1.41983426296 -- minValue: -0.199998880227\n",
      "analysis of Class12: \n",
      "size: 3192x400 -- maxValue: 1.44330456156 -- minValue: -0.199999742541\n",
      "analysis of Class13: \n",
      "size: 11314x400 -- maxValue: 4.19032063272 -- minValue: -0.199999962494\n",
      "analysis of Class14: \n",
      "size: 5542x400 -- maxValue: 2.56827449157 -- minValue: -0.199999809997\n",
      "analysis of Class15: \n",
      "size: 2582x400 -- maxValue: 1.57087579318 -- minValue: -0.19999950571\n",
      "analysis of Class16: \n",
      "size: 19233x400 -- maxValue: 2.4677985999 -- minValue: -0.199999971812\n",
      "analysis of Class17: \n",
      "size: 5428x400 -- maxValue: 1.79422297336 -- minValue: -0.199999481368\n",
      "analysis of Class18: \n",
      "size: 3614x400 -- maxValue: 1.20243252671 -- minValue: -0.199997079571\n",
      "analysis of Class19: \n",
      "size: 5493x400 -- maxValue: 2.27280567659 -- minValue: -0.199999870922\n",
      "analysis of Class20: \n",
      "size: 3031x400 -- maxValue: 1.03390659642 -- minValue: -0.199997067053\n",
      "analysis of Class21: \n",
      "size: 5292x400 -- maxValue: 2.00508879586 -- minValue: -0.199999952879\n",
      "analysis of Class22: \n",
      "size: 16225x400 -- maxValue: 2.77933588329 -- minValue: -0.199999730513\n",
      "analysis of Class23: \n",
      "size: 45589x400 -- maxValue: 2.66151690508 -- minValue: -0.1999999395\n",
      "analysis of Class24: \n",
      "size: 13816x400 -- maxValue: 1.4982179153 -- minValue: -0.199999971246\n",
      "end of class analysis\n"
     ]
    }
   ],
   "source": [
    "# Load all Data\n",
    "\n",
    "#Function for Dataset\n",
    "from Functions.dataset.shipClasses import LoadData\n",
    "import numpy as np\n",
    "\n",
    "dt_lofar_power = LoadData(database=database)\n",
    "dt_lofar_power.infoData()\n",
    "all_data,all_trgt= dt_lofar_power.getData()"
   ]
  },
  {
   "cell_type": "code",
   "execution_count": 5,
   "metadata": {},
   "outputs": [
    {
     "data": {
      "text/plain": [
       "'/home/venancio/Workspace/SonarAnalysis/Results/Classification/304eba95bedd3db814476e5d08bdcc0e31089ef9706c759678f251df50a5a908'"
      ]
     },
     "execution_count": 5,
     "metadata": {},
     "output_type": "execute_result"
    }
   ],
   "source": [
    "path_result"
   ]
  },
  {
   "cell_type": "code",
   "execution_count": 6,
   "metadata": {},
   "outputs": [],
   "source": [
    "import sklearn\n",
    "from sklearn.preprocessing import StandardScaler\n",
    "\n",
    "all_data = StandardScaler().fit_transform(all_data)\n"
   ]
  },
  {
   "cell_type": "code",
   "execution_count": 7,
   "metadata": {},
   "outputs": [],
   "source": [
    "ifold = 0\n",
    "table_master = pd.read_csv(path_result +'/fold0{0}'.format(ifold)+'/master_table.csv')\n",
    "df_pred = pd.read_csv(path_result +'/fold0{0}'.format(ifold)+ '/predict.csv')"
   ]
  },
  {
   "cell_type": "code",
   "execution_count": 8,
   "metadata": {},
   "outputs": [],
   "source": [
    "class_analysis = [13]\n",
    "resolution = 2000\n",
    "class_analysis_1 = map(lambda x:x-1, class_analysis)[0]\n",
    "ids_train = table_master[(table_master['fold_0']==0)&(table_master['target']==class_analysis_1)].index.values\n",
    "ids_test = table_master[(table_master['fold_0']==1)&(table_master['target']==class_analysis_1)].index.values"
   ]
  },
  {
   "cell_type": "code",
   "execution_count": 9,
   "metadata": {},
   "outputs": [],
   "source": [
    "values = np.argmax(df_pred.values,axis=1)\n",
    "table_master['pred'] = values\n",
    "ids_c0_f0_p1t = table_master[(table_master['target']==class_analysis_1)&(table_master['fold_0']==0)&(table_master['target']==table_master['pred'])].index.values\n",
    "ids_c0_f0_p2t = table_master[(table_master['target']==class_analysis_1)&(table_master['fold_0']==0)&(table_master['target']!=table_master['pred'])].index.values\n",
    "\n",
    "ids_c0_f1_p1t = table_master[(table_master['target']==class_analysis_1)&(table_master['fold_0']==1)&(table_master['target']==table_master['pred'])].index.values\n",
    "ids_c0_f1_p2t = table_master[(table_master['target']==class_analysis_1)&(table_master['fold_0']==1)&(table_master['target']!=table_master['pred'])].index.values"
   ]
  },
  {
   "cell_type": "code",
   "execution_count": null,
   "metadata": {},
   "outputs": [],
   "source": [
    "class_analysis = [13]#[8,9,13,21,23] pode - ( 8, 9, 13,)\n",
    "eff_ = [0.64, 0.69, 0.57, 0.55]\n",
    "resolution = 2000\n",
    "class_analysis_1 = map(lambda x:x-1, class_analysis)\n",
    "for iclass, iff in zip(class_analysis_1,eff_):\n",
    "    ids_train = table_master[(table_master['fold_0']==0)&(table_master['target']==iclass)].index.values\n",
    "    ids_test = table_master[(table_master['fold_0']==1)&(table_master['target']==iclass)].index.values\n",
    "\n",
    "    values = np.argmax(df_pred.values,axis=1)\n",
    "    table_master['pred'] = values\n",
    "    ids_c0_f0_p1t = table_master[(table_master['target']==iclass)&(table_master['fold_0']==0)&(table_master['target']==table_master['pred'])].index.values\n",
    "    ids_c0_f0_p2t = table_master[(table_master['target']==iclass)&(table_master['fold_0']==0)&(table_master['target']!=table_master['pred'])].index.values\n",
    "\n",
    "    ids_c0_f1_p1t = table_master[(table_master['target']==iclass)&(table_master['fold_0']==1)&(table_master['target']==table_master['pred'])].index.values\n",
    "    ids_c0_f1_p2t = table_master[(table_master['target']==iclass)&(table_master['fold_0']==1)&(table_master['target']!=table_master['pred'])].index.values\n",
    "\n",
    "\n",
    "    fig, ax = plt.subplots(ncols=3,nrows=2,figsize=(25, 10))\n",
    "\n",
    "    print(\"Class {}: {}\".format(iclass,iff))\n",
    "    iax = ax.flatten()\n",
    "    \n",
    "    sns.heatmap(all_data[ids_train],ax=iax[0],cmap='jet')\n",
    "    iax[0].set_title(\"train data class {0}\".format(iclass+1))\n",
    "    sns.heatmap(all_data[ids_c0_f0_p1t],ax=iax[1],cmap='jet')\n",
    "    iax[1].set_title(\"train predict data true positive class {0}\".format(iclass+1))\n",
    "    sns.heatmap(all_data[ids_c0_f0_p2t],ax=iax[2],cmap='jet')\n",
    "    iax[2].set_title(\"train predict data false positive class {0}\".format(iclass+1))\n",
    "\n",
    "    sns.heatmap(all_data[ids_test],ax=iax[3],cmap='jet')\n",
    "    iax[3].set_title(\"test data  class {0}\".format(iclass+1))\n",
    "    sns.heatmap(all_data[ids_c0_f1_p1t],ax=iax[4],cmap='jet')\n",
    "    iax[4].set_title(\"test predict data true positive class {0}\".format(iclass+1))\n",
    "    sns.heatmap(all_data[ids_c0_f1_p2t],ax=iax[5],cmap='jet')\n",
    "    iax[5].set_title(\"test predict data false positive class {0}\".format(iclass+1))\n",
    "\n",
    "\n",
    "\n"
   ]
  },
  {
   "cell_type": "code",
   "execution_count": null,
   "metadata": {},
   "outputs": [],
   "source": [
    "sns.heatmap(np.clip(all_data[ids_train],-10,-), cmap='jet')\n",
    "ids_test = table_master[(table_master['fold_0']==1)&(table_master['target']==class_analysis_1)].index.values\n",
    "\n"
   ]
  },
  {
   "cell_type": "code",
   "execution_count": null,
   "metadata": {},
   "outputs": [],
   "source": [
    "fig, ax = plt.subplots(ncols=3,nrows=1,figsize=(25, 10))\n",
    "\n",
    "print ax\n",
    "sns.heatmap(all_data[ids_test],ax=ax[0],cmap='jet')\n",
    "ax[0].set_title(\"test data  class {0}\".format(class_analysis_1+1))\n",
    "sns.heatmap(all_data[ids_c0_f1_p1t],ax=ax[1],cmap='jet')\n",
    "ax[1].set_title(\"test predict data true positive class {0}\".format(class_analysis_1+1))\n",
    "sns.heatmap(all_data[ids_c0_f1_p2t],ax=ax[2],cmap='jet')\n",
    "ax[2].set_title(\"test predict data false positive class {0}\".format(class_analysis_1+1))"
   ]
  },
  {
   "cell_type": "code",
   "execution_count": 16,
   "metadata": {},
   "outputs": [],
   "source": [
    "data = table_master[(table_master['target']==12)&(table_master['fold_0']==1)].index.values"
   ]
  },
  {
   "cell_type": "code",
   "execution_count": 17,
   "metadata": {},
   "outputs": [
    {
     "data": {
      "text/plain": [
       "array([[<matplotlib.axes._subplots.AxesSubplot object at 0x7ff0f86c5f50>]],\n",
       "      dtype=object)"
      ]
     },
     "execution_count": 17,
     "metadata": {},
     "output_type": "execute_result"
    },
    {
     "data": {
      "image/png": "[encoded data removed]",
      "text/plain": [
       "<Figure size 432x288 with 1 Axes>"
      ]
     },
     "metadata": {},
     "output_type": "display_data"
    }
   ],
   "source": [
    "pd.DataFrame(data).hist()"
   ]
  },
  {
   "cell_type": "code",
   "execution_count": 24,
   "metadata": {},
   "outputs": [],
   "source": [
    "import seaborn as sns\n",
    "from sklearn.preprocessing import LabelEncoder\n",
    "\n",
    "iris = sns.load_dataset(\"iris\")\n",
    "\n",
    "le = LabelEncoder()\n",
    "all_trgt = le.fit_transform(iris.species.values)\n",
    "all_data = iris[iris.columns[:-1]].values"
   ]
  },
  {
   "cell_type": "code",
   "execution_count": 26,
   "metadata": {},
   "outputs": [],
   "source": [
    "from sklearn import datasets\n",
    "\n",
    "iris = datasets.load_iris()\n",
    "X = iris.data\n",
    "y = iris.target"
   ]
  },
  {
   "cell_type": "code",
   "execution_count": null,
   "metadata": {},
   "outputs": [],
   "source": [
    "y"
   ]
  },
  {
   "cell_type": "code",
   "execution_count": null,
   "metadata": {},
   "outputs": [],
   "source": []
  }
 ],
 "metadata": {
  "kernelspec": {
   "display_name": "Python 2",
   "language": "python",
   "name": "python2"
  },
  "language_info": {
   "codemirror_mode": {
    "name": "ipython",
    "version": 2
   },
   "file_extension": ".py",
   "mimetype": "text/x-python",
   "name": "python",
   "nbconvert_exporter": "python",
   "pygments_lexer": "ipython2",
   "version": "2.7.5"
  }
 },
 "nbformat": 4,
 "nbformat_minor": 2
}
