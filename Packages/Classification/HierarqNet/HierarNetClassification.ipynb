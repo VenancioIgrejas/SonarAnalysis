{
 "cells": [
  {
   "cell_type": "code",
   "execution_count": 1,
   "metadata": {},
   "outputs": [],
   "source": [
    "import os\n",
    "import sys\n",
    "import time\n",
    "import sqlite3\n",
    "from Functions.database import createTable\n",
    "import tensorboard as tf\n",
    "\n",
    "from envConfig import CONFIG\n",
    "CONFIG[\"PACKAGE_NAME\"] = os.path.join(CONFIG[\"OUTPUTDATAPATH\"], \"Classification\")\n",
    "\n",
    "import matplotlib.pyplot as plt\n",
    "\n",
    "\n",
    "import numpy as np\n",
    "import pandas as pd\n",
    "\n",
    "import seaborn as sns\n",
    "\n",
    "\n",
    "analysis_name = 'Classification'\n",
    "\n",
    "data_path = CONFIG['OUTPUTDATAPATH']\n",
    "results_path = CONFIG['PACKAGE_NAME']\n",
    "\n",
    "\n",
    "#db = sqlite3.connect(results_path+'classification.db')\n",
    "#time = time.strftime(\"%a, %d %b %Y %H:%M:%S\", time.gmtime())"
   ]
  },
  {
   "cell_type": "code",
   "execution_count": 2,
   "metadata": {},
   "outputs": [
    {
     "name": "stderr",
     "output_type": "stream",
     "text": [
      "Using TensorFlow backend.\n"
     ]
    },
    {
     "name": "stdout",
     "output_type": "stream",
     "text": [
      "[+] Time to read data file: 4.55640602112 seconds\n",
      "WARNING: each class was reduced to 1000 random samples\n"
     ]
    }
   ],
   "source": [
    "from Functions.dataset.shipClasses import LoadData\n",
    "\n",
    "dt_24 = LoadData(dev=True)\n",
    "#dt_24.infoData()\n",
    "all_data,all_trgt= dt_24.getData()"
   ]
  },
  {
   "cell_type": "code",
   "execution_count": 3,
   "metadata": {},
   "outputs": [
    {
     "name": "stdout",
     "output_type": "stream",
     "text": [
      "File /home/venancio/Workspace/SonarAnalysis/Results/Classification/dev/HierNet/10_folds_cross_validation_dev.jbl exists\n"
     ]
    }
   ],
   "source": [
    "from Functions.preprocessing import CrossValidation\n",
    "\n",
    "results_path_specific = results_path + '/dev' + '/HierNet/'\n",
    "if not os.path.exists(results_path_specific):\n",
    "    os.makedirs(results_path_specific)\n",
    "\n",
    "cv = CrossValidation(X = all_data,y = all_trgt, estimator=None, n_folds=10, dev=True, verbose=1, dir=results_path_specific)\n",
    "\n",
    "\n",
    "\n",
    "train_id, test_id, folder = cv.train_test_split(ifold=0)"
   ]
  },
  {
   "cell_type": "code",
   "execution_count": 4,
   "metadata": {},
   "outputs": [],
   "source": [
    "from Functions.mlpClassification import MLPKeras\n",
    "from Functions.preprocessing import CrossValidation,CVEnsemble\n",
    "from Functions.ensemble import SpecialistClass,HierarqNet\n",
    "import sklearn as sk\n",
    "\n",
    "\n",
    "\n",
    "mlp = MLPKeras(hidden_layer_sizes=(40,),\n",
    "                 activation=('tanh','tanh'),\n",
    "                 optimize='adam',\n",
    "                 lr=0.001, beta_1=0.9, beta_2=0.999, epsilon=None, decay=0.0, amsgrad=False,\n",
    "                 loss='mean_squared_error',\n",
    "                 n_init=1,\n",
    "                 batch_size=10,\n",
    "                 epoch=10,\n",
    "                 shuffle=True,\n",
    "                 random_state=None,\n",
    "                 verbose=False,\n",
    "                 train_log = True,\n",
    "                 append=False,\n",
    "                 class_weight = True,\n",
    "                 early_stopping = True,\n",
    "                 monitor='sp', min_delta=0, patience=25,\n",
    "                 mode='max', baseline=None, restore_best_weights=True,\n",
    "                 save_best_model = True,\n",
    "                 save_weights_only=False,\n",
    "                 metrics=['acc','sp'],\n",
    "                 validation_id=(None,None),\n",
    "                 validation_fraction=0.2,\n",
    "                 dir='./')\n",
    "\n",
    "hn = HierarqNet(mlp,n_jobs=None,n_folds=10,verbose=True,dir=results_path_specific)\n",
    "\n",
    "#cv = CrossValidation(mlp,all_data,all_trgt,n_folds=10,dev=False,verbose=False,dir=result_3Classes)"
   ]
  },
  {
   "cell_type": "code",
   "execution_count": 5,
   "metadata": {},
   "outputs": [
    {
     "name": "stdout",
     "output_type": "stream",
     "text": [
      "[+] training class super\n",
      "Class 0 has 41.67% of 24000\n",
      "Class 1 has 25.00% of 24000\n",
      "Class 2 has 8.33% of 24000\n",
      "Class 3 has 25.00% of 24000\n",
      "File /home/venancio/Workspace/SonarAnalysis/Results/Classification/dev/HierNet/estimator_super/10_folds_cross_validation.jbl exists\n",
      "SP of folders already exists in /home/venancio/Workspace/SonarAnalysis/Results/Classification/dev/HierNet/estimator_super/SP_folds.csv file\n",
      "fold 7 has the highest sp value: 0.69\n",
      "model already exists in /home/venancio/Workspace/SonarAnalysis/Results/Classification/dev/HierNet/estimator_super/fold06/best_model.h5 file\n"
     ]
    }
   ],
   "source": [
    "id_group = hn._fit_lvl1(mlp,X=all_data,y=all_trgt)\n"
   ]
  },
  {
   "cell_type": "code",
   "execution_count": 23,
   "metadata": {},
   "outputs": [
    {
     "name": "stdout",
     "output_type": "stream",
     "text": [
      "/home/venancio/Workspace/SonarAnalysis/Results/Classification/dev/HierNet/estimator_super/\n"
     ]
    }
   ],
   "source": [
    "for i in hn.estimators_.itervalues():\n",
    "    print i[0].get_params()['dir'][:-7]"
   ]
  },
  {
   "cell_type": "code",
   "execution_count": 6,
   "metadata": {},
   "outputs": [
    {
     "data": {
      "text/html": [
       "<div>\n",
       "<style scoped>\n",
       "    .dataframe tbody tr th:only-of-type {\n",
       "        vertical-align: middle;\n",
       "    }\n",
       "\n",
       "    .dataframe tbody tr th {\n",
       "        vertical-align: top;\n",
       "    }\n",
       "\n",
       "    .dataframe thead th {\n",
       "        text-align: right;\n",
       "    }\n",
       "</style>\n",
       "<table border=\"1\" class=\"dataframe\">\n",
       "  <thead>\n",
       "    <tr style=\"text-align: right;\">\n",
       "      <th></th>\n",
       "      <th>index</th>\n",
       "      <th>HierarqNet(resultados)_0</th>\n",
       "      <th>HierarqNet(valor)_0</th>\n",
       "      <th>fold_0</th>\n",
       "      <th>target_0</th>\n",
       "    </tr>\n",
       "  </thead>\n",
       "  <tbody>\n",
       "    <tr>\n",
       "      <th>0</th>\n",
       "      <td>0</td>\n",
       "      <td>2</td>\n",
       "      <td>-0.461570</td>\n",
       "      <td>1</td>\n",
       "      <td>0</td>\n",
       "    </tr>\n",
       "    <tr>\n",
       "      <th>1</th>\n",
       "      <td>1</td>\n",
       "      <td>3</td>\n",
       "      <td>0.813823</td>\n",
       "      <td>1</td>\n",
       "      <td>0</td>\n",
       "    </tr>\n",
       "    <tr>\n",
       "      <th>2</th>\n",
       "      <td>2</td>\n",
       "      <td>3</td>\n",
       "      <td>0.714165</td>\n",
       "      <td>1</td>\n",
       "      <td>0</td>\n",
       "    </tr>\n",
       "    <tr>\n",
       "      <th>3</th>\n",
       "      <td>3</td>\n",
       "      <td>1</td>\n",
       "      <td>0.537195</td>\n",
       "      <td>1</td>\n",
       "      <td>0</td>\n",
       "    </tr>\n",
       "    <tr>\n",
       "      <th>4</th>\n",
       "      <td>4</td>\n",
       "      <td>1</td>\n",
       "      <td>0.469561</td>\n",
       "      <td>1</td>\n",
       "      <td>0</td>\n",
       "    </tr>\n",
       "  </tbody>\n",
       "</table>\n",
       "</div>"
      ],
      "text/plain": [
       "   index  HierarqNet(resultados)_0  HierarqNet(valor)_0  fold_0  target_0\n",
       "0      0                         2            -0.461570       1         0\n",
       "1      1                         3             0.813823       1         0\n",
       "2      2                         3             0.714165       1         0\n",
       "3      3                         1             0.537195       1         0\n",
       "4      4                         1             0.469561       1         0"
      ]
     },
     "execution_count": 6,
     "metadata": {},
     "output_type": "execute_result"
    }
   ],
   "source": [
    "#analysis of classifier S\n",
    "\n",
    "_, _, y_new, ids = hn.estimators_['S']\n",
    "\n",
    "ids = hn.estimators_['S'][-1]\n",
    "index_per_class = np.array(range(all_trgt.shape[0]))\n",
    "index = np.concatenate([index_per_class[ids[i]]for i in range(len(ids))])\n",
    "\n",
    "df_index = pd.DataFrame({'index':index})\n",
    "\n",
    "csv_anal = '/home/venancio/Workspace/SonarAnalysis/Results/Classification/dev/HierNet/estimator_super/fold00/hierarq_analy_fold_0.csv'\n",
    "hierarq_anal = pd.read_csv(csv_anal)\n",
    "df_tabela_S = pd.concat([df_index,hierarq_anal],axis=1)\n",
    "df_tabela_S.head()\n",
    "\n"
   ]
  },
  {
   "cell_type": "code",
   "execution_count": 7,
   "metadata": {},
   "outputs": [
    {
     "data": {
      "image/png": "[encoded data removed]",
      "text/plain": [
       "<Figure size 720x432 with 1 Axes>"
      ]
     },
     "metadata": {},
     "output_type": "display_data"
    }
   ],
   "source": [
    "\n",
    "\n",
    "fig = plt.figure(figsize=(10,6))\n",
    "ax = plt.subplot()\n",
    "df_tabela_S.plot(x='index',y='target_0',kind='scatter',ax=ax)\n",
    "#plt.xticks(range(5000))\n",
    "ax.grid()"
   ]
  },
  {
   "cell_type": "code",
   "execution_count": null,
   "metadata": {},
   "outputs": [],
   "source": []
  }
 ],
 "metadata": {
  "kernelspec": {
   "display_name": "Python 2",
   "language": "python",
   "name": "python2"
  },
  "language_info": {
   "codemirror_mode": {
    "name": "ipython",
    "version": 2
   },
   "file_extension": ".py",
   "mimetype": "text/x-python",
   "name": "python",
   "nbconvert_exporter": "python",
   "pygments_lexer": "ipython2",
   "version": "2.7.5"
  }
 },
 "nbformat": 4,
 "nbformat_minor": 2
}
